{
  "nbformat": 4,
  "nbformat_minor": 0,
  "metadata": {
    "colab": {
      "provenance": []
    },
    "kernelspec": {
      "name": "python3",
      "display_name": "Python 3"
    },
    "language_info": {
      "name": "python"
    }
  },
  "cells": [
    {
      "cell_type": "code",
      "execution_count": 1,
      "metadata": {
        "colab": {
          "base_uri": "https://localhost:8080/"
        },
        "id": "SFxiWjB5X6jA",
        "outputId": "e403c45c-7589-438f-afd0-cf7f848e32ca"
      },
      "outputs": [
        {
          "output_type": "stream",
          "name": "stdout",
          "text": [
            "Reshaped Matrix:\n",
            " [[10 11 12 13 14 15 16 17 18 19]\n",
            " [20 21 22 23 24 25 26 27 28 29]\n",
            " [30 31 32 33 34 35 36 37 38 39]\n",
            " [40 41 42 43 44 45 46 47 48 49]]\n",
            "\n",
            "Last Column:\n",
            " [19 29 39 49]\n"
          ]
        }
      ],
      "source": [
        "#1\n",
        "import numpy as np\n",
        "arr = np.arange(10, 50)\n",
        "reshaped_arr = arr.reshape(4, 10)\n",
        "last_column = reshaped_arr[:, -1]\n",
        "print(\"Reshaped Matrix:\\n\", reshaped_arr)\n",
        "print(\"\\nLast Column:\\n\", last_column)"
      ]
    },
    {
      "cell_type": "code",
      "source": [
        "#2\n",
        "import numpy as np\n",
        "\n",
        "matrix_5s = np.full((3, 3), 5)\n",
        "matrix_1_to_9 = np.arange(1, 10).reshape(3, 3)\n",
        "sum_matrix = matrix_5s + matrix_1_to_9\n",
        "product_matrix = matrix_5s * matrix_1_to_9\n",
        "transpose_product = product_matrix.T\n",
        "print(\"Matrix of 5s:\\n\", matrix_5s)\n",
        "print(\"\\nMatrix 1 to 9:\\n\", matrix_1_to_9)\n",
        "print(\"\\nSum:\\n\", sum_matrix)\n",
        "print(\"\\nElement-wise Product:\\n\", product_matrix)\n",
        "print(\"\\nTranspose of Product:\\n\", transpose_product)"
      ],
      "metadata": {
        "colab": {
          "base_uri": "https://localhost:8080/"
        },
        "id": "YTuF9TqjYyBF",
        "outputId": "ee399202-260b-4931-a19f-3a80802b9ffb"
      },
      "execution_count": 3,
      "outputs": [
        {
          "output_type": "stream",
          "name": "stdout",
          "text": [
            "Matrix of 5s:\n",
            " [[5 5 5]\n",
            " [5 5 5]\n",
            " [5 5 5]]\n",
            "\n",
            "Matrix 1 to 9:\n",
            " [[1 2 3]\n",
            " [4 5 6]\n",
            " [7 8 9]]\n",
            "\n",
            "Sum:\n",
            " [[ 6  7  8]\n",
            " [ 9 10 11]\n",
            " [12 13 14]]\n",
            "\n",
            "Element-wise Product:\n",
            " [[ 5 10 15]\n",
            " [20 25 30]\n",
            " [35 40 45]]\n",
            "\n",
            "Transpose of Product:\n",
            " [[ 5 20 35]\n",
            " [10 25 40]\n",
            " [15 30 45]]\n"
          ]
        }
      ]
    },
    {
      "cell_type": "code",
      "source": [
        "#3\n",
        "import numpy as np\n",
        "arr = np.random.randint(10, 101, size=15)\n",
        "replaced_arr = arr.copy()\n",
        "replaced_arr[replaced_arr > 50] = -1\n",
        "count_replaced = np.sum(arr > 50)\n",
        "print(\"Original Array:\\n\", arr)\n",
        "print(\"\\nModified Array:\\n\", replaced_arr)\n",
        "print(\"\\nNumber of values replaced:\", count_replaced)\n",
        ""
      ],
      "metadata": {
        "colab": {
          "base_uri": "https://localhost:8080/"
        },
        "id": "tcN94rmhZWtX",
        "outputId": "3c3cb4d9-1531-4cc5-890a-c105c28e1afc"
      },
      "execution_count": 4,
      "outputs": [
        {
          "output_type": "stream",
          "name": "stdout",
          "text": [
            "Original Array:\n",
            " [81 67 50 45 32 12 73 67 33 56 62 72 22 91 99]\n",
            "\n",
            "Modified Array:\n",
            " [-1 -1 50 45 32 12 -1 -1 33 -1 -1 -1 22 -1 -1]\n",
            "\n",
            "Number of values replaced: 9\n"
          ]
        }
      ]
    },
    {
      "cell_type": "code",
      "source": [
        "#4\n",
        "import numpy as np\n",
        "array = np.random.rand(5, 4)\n",
        "print(\"Original Array:\\n\", array)\n",
        "row_sums = np.sum(array, axis=1)\n",
        "max_row_index = np.argmax(row_sums)\n",
        "print(\"\\nRow with maximum sum is at index:\", max_row_index)\n",
        "print(\"Maximum sum value:\", row_sums[max_row_index])\n",
        "print(\"Row with max sum:\", array[max_row_index])\n",
        "\n",
        "normalized_array = np.zeros_like(array)\n",
        "\n",
        "for i in range(array.shape[0]):\n",
        "    row = array[i]\n",
        "    row_min = np.min(row)\n",
        "    row_max = np.max(row)\n",
        "    normalized_array[i] = (row - row_min) / (row_max - row_min)\n",
        "\n",
        "print(\"\\nNormalized Array:\\n\", normalized_array)\n"
      ],
      "metadata": {
        "colab": {
          "base_uri": "https://localhost:8080/"
        },
        "id": "ZQxrfEe4aCUy",
        "outputId": "40103fbf-753f-4957-8fb6-319020c6b18c"
      },
      "execution_count": 5,
      "outputs": [
        {
          "output_type": "stream",
          "name": "stdout",
          "text": [
            "Original Array:\n",
            " [[0.3361925  0.242423   0.04979059 0.47869124]\n",
            " [0.63740576 0.81787539 0.45993365 0.50053364]\n",
            " [0.67780266 0.64133718 0.79003158 0.60145612]\n",
            " [0.28511393 0.0343988  0.59795333 0.62535308]\n",
            " [0.41792939 0.28662584 0.72800807 0.34172364]]\n",
            "\n",
            "Row with maximum sum is at index: 2\n",
            "Maximum sum value: 2.710627538906543\n",
            "Row with max sum: [0.67780266 0.64133718 0.79003158 0.60145612]\n",
            "\n",
            "Normalized Array:\n",
            " [[0.66775816 0.4491306  0.         1.        ]\n",
            " [0.49581283 1.         0.         0.11342626]\n",
            " [0.40485938 0.21148596 1.         0.        ]\n",
            " [0.4242547  0.         0.95363474 1.        ]\n",
            " [0.29748263 0.         1.         0.12483012]]\n"
          ]
        }
      ]
    },
    {
      "cell_type": "code",
      "source": [
        "#5\n",
        "import numpy as np\n",
        "\n",
        "arr = np.array([1, 3, 5, 3, 7, 9, 1, 5, 5])\n",
        "\n",
        "unique, counts = np.unique(arr, return_counts=True)\n",
        "\n",
        "\n",
        "duplicates = unique[counts > 1]\n",
        "print(\"Duplicate elements:\", duplicates)\n"
      ],
      "metadata": {
        "colab": {
          "base_uri": "https://localhost:8080/"
        },
        "id": "r5zW5wO3axJ8",
        "outputId": "1a2cf97e-04b1-4917-ba7d-a8ccf15eaa51"
      },
      "execution_count": 6,
      "outputs": [
        {
          "output_type": "stream",
          "name": "stdout",
          "text": [
            "Duplicate elements: [1 3 5]\n"
          ]
        }
      ]
    },
    {
      "cell_type": "code",
      "source": [
        "#6\n",
        "import numpy as np\n",
        "\n",
        "array = np.arange(1, 37).reshape(6, 6)\n",
        "print(\"Original 6x6 Array:\\n\", array)\n",
        "submatrix_4x4 = array[1:5, 1:5]\n",
        "print(\"\\nMiddle 4x4 Submatrix:\\n\", submatrix_4x4)\n",
        "even_numbers = submatrix_4x4[submatrix_4x4 % 2 == 0]\n",
        "print(\"\\nEven numbers in the submatrix:\\n\", even_numbers)\n"
      ],
      "metadata": {
        "colab": {
          "base_uri": "https://localhost:8080/"
        },
        "id": "1RzukTOfbC_S",
        "outputId": "b8ce1725-d97b-44fa-b277-abf6638b4614"
      },
      "execution_count": 7,
      "outputs": [
        {
          "output_type": "stream",
          "name": "stdout",
          "text": [
            "Original 6x6 Array:\n",
            " [[ 1  2  3  4  5  6]\n",
            " [ 7  8  9 10 11 12]\n",
            " [13 14 15 16 17 18]\n",
            " [19 20 21 22 23 24]\n",
            " [25 26 27 28 29 30]\n",
            " [31 32 33 34 35 36]]\n",
            "\n",
            "Middle 4x4 Submatrix:\n",
            " [[ 8  9 10 11]\n",
            " [14 15 16 17]\n",
            " [20 21 22 23]\n",
            " [26 27 28 29]]\n",
            "\n",
            "Even numbers in the submatrix:\n",
            " [ 8 10 14 16 20 22 26 28]\n"
          ]
        }
      ]
    },
    {
      "cell_type": "code",
      "source": [
        "#7\n",
        "import numpy as np\n",
        "\n",
        "array = np.arange(12).reshape(3, 4)\n",
        "print(\"Original (3,4) Array:\\n\", array)\n",
        "reshaped_2x6 = array.reshape(2, 6)\n",
        "print(\"\\nReshaped to (2,6):\\n\", reshaped_2x6)\n",
        "flattened = reshaped_2x6.flatten()\n",
        "print(\"\\nFlattened 1D Array:\\n\", flattened)\n",
        "reshaped_4x3 = flattened.reshape(4, 3)\n",
        "print(\"\\nReshaped back to (4,3):\\n\", reshaped_4x3)\n",
        "\n"
      ],
      "metadata": {
        "colab": {
          "base_uri": "https://localhost:8080/"
        },
        "id": "3XwPuba2bUje",
        "outputId": "788a4ae1-26e7-46cf-b456-f5067e5eaebc"
      },
      "execution_count": 8,
      "outputs": [
        {
          "output_type": "stream",
          "name": "stdout",
          "text": [
            "Original (3,4) Array:\n",
            " [[ 0  1  2  3]\n",
            " [ 4  5  6  7]\n",
            " [ 8  9 10 11]]\n",
            "\n",
            "Reshaped to (2,6):\n",
            " [[ 0  1  2  3  4  5]\n",
            " [ 6  7  8  9 10 11]]\n",
            "\n",
            "Flattened 1D Array:\n",
            " [ 0  1  2  3  4  5  6  7  8  9 10 11]\n",
            "\n",
            "Reshaped back to (4,3):\n",
            " [[ 0  1  2]\n",
            " [ 3  4  5]\n",
            " [ 6  7  8]\n",
            " [ 9 10 11]]\n"
          ]
        }
      ]
    },
    {
      "cell_type": "code",
      "source": [
        "#8\n",
        "import numpy as np\n",
        "\n",
        "a = np.array([[1, 2], [3, 4]])\n",
        "print(\"Original array:\\n\", a)\n",
        "\n",
        "a = np.vstack([a, [5, 6]])\n",
        "print(\"After adding row [5, 6]:\\n\", a)\n",
        "\n",
        "new_col = np.array([[7], [8], [9]])\n",
        "a = np.hstack([a, new_col])\n",
        "print(\"After adding column [7, 8, 9]:\\n\", a)\n",
        "\n",
        "\n",
        "\n"
      ],
      "metadata": {
        "colab": {
          "base_uri": "https://localhost:8080/"
        },
        "id": "iR-Po7npbtX7",
        "outputId": "d4b2b5e9-1fac-4fb1-cf37-67369ed1f2a5"
      },
      "execution_count": 12,
      "outputs": [
        {
          "output_type": "stream",
          "name": "stdout",
          "text": [
            "Original array:\n",
            " [[1 2]\n",
            " [3 4]]\n",
            "After adding row [5, 6]:\n",
            " [[1 2]\n",
            " [3 4]\n",
            " [5 6]]\n",
            "After adding column [7, 8, 9]:\n",
            " [[1 2 7]\n",
            " [3 4 8]\n",
            " [5 6 9]]\n"
          ]
        }
      ]
    },
    {
      "cell_type": "code",
      "source": [
        "#9\n",
        "import numpy as np\n",
        "\n",
        "a = np.array([1, 2, 3])\n",
        "b = np.array([4, 5, 6])\n",
        "c = np.array([7, 8, 9])\n",
        "\n",
        "combined = np.concatenate([a, b, c])\n",
        "print(\"Combined array:\\n\", combined)\n",
        "\n",
        "\n",
        "matrix = combined.reshape(3, 3)\n",
        "print(\"Reshaped 3x3 matrix:\\n\", matrix)\n",
        "\n",
        "diagonal = np.diag(matrix)\n",
        "print(\"Diagonal elements:\\n\", diagonal)\n"
      ],
      "metadata": {
        "colab": {
          "base_uri": "https://localhost:8080/"
        },
        "id": "mbTI02qMcc0E",
        "outputId": "4b1bd82d-97df-469c-d713-ee6ad34c7b0d"
      },
      "execution_count": 13,
      "outputs": [
        {
          "output_type": "stream",
          "name": "stdout",
          "text": [
            "Combined array:\n",
            " [1 2 3 4 5 6 7 8 9]\n",
            "Reshaped 3x3 matrix:\n",
            " [[1 2 3]\n",
            " [4 5 6]\n",
            " [7 8 9]]\n",
            "Diagonal elements:\n",
            " [1 5 9]\n"
          ]
        }
      ]
    },
    {
      "cell_type": "code",
      "source": [
        "#10\n",
        "import numpy as np\n",
        "arr = np.arange(1, 21)\n",
        "print(\"Original array:\\n\", arr)\n",
        "\n",
        "filtered = arr[(arr % 3 == 0) | (arr % 5 == 0)]\n",
        "print(\"Values divisible by 3 or 5:\\n\", filtered)\n",
        "\n",
        "count = filtered.size\n",
        "print(\"Count of values divisible by 3 or 5:\", count)\n"
      ],
      "metadata": {
        "colab": {
          "base_uri": "https://localhost:8080/"
        },
        "id": "DNZFkwM-cnqL",
        "outputId": "6c539287-88fd-4869-fa2f-70ed996bac46"
      },
      "execution_count": 14,
      "outputs": [
        {
          "output_type": "stream",
          "name": "stdout",
          "text": [
            "Original array:\n",
            " [ 1  2  3  4  5  6  7  8  9 10 11 12 13 14 15 16 17 18 19 20]\n",
            "Values divisible by 3 or 5:\n",
            " [ 3  5  6  9 10 12 15 18 20]\n",
            "Count of values divisible by 3 or 5: 9\n"
          ]
        }
      ]
    },
    {
      "cell_type": "code",
      "source": [],
      "metadata": {
        "id": "2q8Fq3IPc3Nu"
      },
      "execution_count": null,
      "outputs": []
    }
  ]
}